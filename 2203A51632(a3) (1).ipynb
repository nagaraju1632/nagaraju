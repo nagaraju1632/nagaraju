{
  "nbformat": 4,
  "nbformat_minor": 0,
  "metadata": {
    "colab": {
      "provenance": []
    },
    "kernelspec": {
      "name": "python3",
      "display_name": "Python 3"
    },
    "language_info": {
      "name": "python"
    }
  },
  "cells": [
    {
      "cell_type": "code",
      "execution_count": 1,
      "metadata": {
        "colab": {
          "base_uri": "https://localhost:8080/"
        },
        "id": "WdSGE2rKOQyt",
        "outputId": "9d9c4149-3fe4-4f10-cb32-89f2234c2147"
      },
      "outputs": [
        {
          "output_type": "stream",
          "name": "stdout",
          "text": [
            "The shortest cost from node 0 to node 5 is: 10\n"
          ]
        }
      ],
      "source": [
        "import heapq\n",
        "\n",
        "def best_first_search(graph, start, goal):\n",
        "    priority_queue = [(0, start)]\n",
        "    visited = set()\n",
        "\n",
        "    while priority_queue:\n",
        "        cost, current_node = heapq.heappop(priority_queue)\n",
        "\n",
        "        if current_node in visited:\n",
        "            continue\n",
        "\n",
        "        visited.add(current_node)\n",
        "\n",
        "        if current_node == goal:\n",
        "            return cost\n",
        "\n",
        "        for neighbor, weight in graph[current_node]:\n",
        "            if neighbor not in visited:\n",
        "                heapq.heappush(priority_queue, (cost + weight, neighbor))\n",
        "\n",
        "    return float('inf')  # If no path is found\n",
        "\n",
        "# Define your weighted graph\n",
        "graph = {\n",
        "    0: [(1, 2), (2, 3)],\n",
        "    1: [(0, 2), (3, 2)],\n",
        "    2: [(0, 3), (4, 2)],\n",
        "    3: [(1, 2), (5, 6)],\n",
        "    4: [(2, 2)],\n",
        "    5: [(3, 6)]\n",
        "}\n",
        "\n",
        "# Specify start and goal nodes\n",
        "start_node = 0\n",
        "goal_node = 5\n",
        "\n",
        "# Find the shortest cost path\n",
        "shortest_cost = best_first_search(graph, start_node, goal_node)\n",
        "\n",
        "print(f\"The shortest cost from node {start_node} to node {goal_node} is: {shortest_cost}\")"
      ]
    }
  ]
}